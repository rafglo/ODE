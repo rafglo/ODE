{
 "cells": [
  {
   "cell_type": "markdown",
   "metadata": {},
   "source": [
    "# **Model Lotki-Volterry** \n",
    "***"
   ]
  },
  {
   "cell_type": "markdown",
   "metadata": {},
   "source": [
    "Rys historyczny o modelu, wprowadzenie\n",
    "***"
   ]
  },
  {
   "cell_type": "markdown",
   "metadata": {},
   "source": [
    "Opis zajwiska, przedstawienie zająców i wilków, informacje o modelu, założenia\n",
    "***"
   ]
  },
  {
   "cell_type": "markdown",
   "metadata": {},
   "source": [
    "Rozwiązanie w LaTeXu\n",
    "***"
   ]
  },
  {
   "cell_type": "markdown",
   "metadata": {},
   "source": [
    "Funkcja rozwiązująca równania\n",
    "***"
   ]
  },
  {
   "cell_type": "markdown",
   "metadata": {},
   "source": [
    "GUI - przedstawienie wyników, syumulacja\n",
    "***"
   ]
  },
  {
   "cell_type": "markdown",
   "metadata": {},
   "source": [
    "Podsumowanie, wnioski\n",
    "***"
   ]
  },
  {
   "cell_type": "markdown",
   "metadata": {},
   "source": [
    "Bibliografia\n",
    "***"
   ]
  },
  {
   "cell_type": "markdown",
   "metadata": {},
   "source": [
    "### **Wprowadzenie**"
   ]
  },
  {
   "cell_type": "markdown",
   "metadata": {},
   "source": [
    "Model Lotki-Volterry, znany również jako model drapieżnicy-ofiary pierwotnie opisywał wzajemne oddziaływanie dwóch populacji współżyjących w ramach jednego ekosystemu. By zrozumieć idee, która dała początek temu zagadnieniu, przenieśmy się do okresu dwudziestolecia międzywojennego. Mieszkający i poławiający w basenie Morza Adriatyckiego rybacy zaobserwowali pozornie paradoksalne zjawisko znaczącego wzrostu populacji ryb drapieżnych. Zdawałoby się bowiem, że w wyniku prowadzonych na tych wodach działań wojennych, liczebność wszystkich gatunków bez wyjątku ulegnie znacznemu zmniejszeniu. Sytuację tę wyjaśnił w 1926 roku włoski matematyk Vito Volterra. Przy pomocy swojego modelu wykazał, że wzrost liczebności drapieżników można wyjaśnić zaprzestaniem połowów podczas wojny i proces ten jest w pełni naturalny. W tym samym czasie, amerykański matematyk Alfred James Lotka, niezależnie od Volterry, wyprowadził równoważne równania do opisu oscylacji stężeń substancji w hipotetycznej reakcji chemicznej. Po dzień dzisiejszy równanie Lotki-Volterry jest wykorzystywane do modelowania układów dynamicznych w ekosystemach."
   ]
  },
  {
   "cell_type": "markdown",
   "metadata": {},
   "source": [
    "### **Opis modelu**"
   ]
  },
  {
   "cell_type": "markdown",
   "metadata": {},
   "source": [
    "Zastanówmy się nad heurystycznym modelem, który posłuży nam do wyprowadzenia równania Lotki-Volterry. Rozważamy ekosystem, w którym występują dwa gatunki. Dla uproszczenia weźmiemy wilki i zające, których liczebność (zagęszczenie) populacji oznaczymy odpowiednio przez $W$ i $Z$. Wilki jako drapieżnicy żywią się zającami - ofiarami. Jeśli w środowisku nie występują wilki, to zające mają dogodne warunki do rozwoju, który wówczas możemy opisać równaniem Malthusa. Jedynym ograniczeniem dla nich jest zatem pojemność środowiska. Z drugiej strony, jeśli zabierzemy wilkom zające, czyli ich jedyne źródło pożywienia, to zaczną wymierać z głodu. Jeśli występują oba gatunki, to wilki polują na zające, a wszystkie osobniki poruszają się losowo. $Z$ ubywa zatem proporcjonalnie do liczby spotkań, która jest tym wyższa, im skuteczniejszy jest drapieżnik. Energię z pożywienia drapieżnicy przeznaczają na rozmnażanie.\n",
    "\n",
    "Wówczas dynamikę rozwoju populacji tych gatunków opisuje następujący układ równań różniczkowych\n",
    "\\begin{align*}\n",
    "\\dot{Z} &= rZ - aZW\\\\\n",
    "\\dot{W} &= baWZ - sW\n",
    "\\end{align*}\n",
    "\n",
    "gdzie\n",
    "* $r$ jest współczynnikiem rozrodczości zająców\n",
    "* $a$ jest wspołczynnikiem skuteczności polowania, a $aZW$ odzwierciedla liczbę spotkań obu gatunków (skutecznych polowań)\n",
    "* $b$ oznacza część energii, którą po polowaniu wilk przeznczył na rozmnażanie\n",
    "* $s$ jest wspołczynnikiem śmiertelności gatunku wilków\n"
   ]
  },
  {
   "cell_type": "markdown",
   "metadata": {},
   "source": [
    "### **Metody rozwiązania problemu**"
   ]
  },
  {
   "cell_type": "markdown",
   "metadata": {},
   "source": [
    "Rozważamy układ równań różniczkowych \n",
    "\n",
    "\\begin{align*}\n",
    "\\dot{Z} &= rZ - aZW\\\\\n",
    "\\dot{W} &= baWZ - sW \n",
    "\\tag{1}\n",
    "\\end{align*}\n",
    "\n",
    "Zobaczmy, że możemy łatwo wskazać punkty krytyczne rownań\n",
    "\\begin{align*}\n",
    "Z(r-aW) &= 0\\\\\n",
    "W(baZ-s) &= 0\n",
    "\\end{align*}\n",
    "\n",
    "Skąd otrzymujemy punkty $(0,0)$ oraz $(\\frac{s}{ba}, \\frac{r}{a})$. Teraz sprawdzimy zachowanie rozwiązań układu w bliskim otoczeniu punktów krytycznych.\n",
    "\n",
    "Dla punktu zerowego możemy pominąć nieliniowe czynniki i zapisać to równanie\n",
    "$$\n",
    "\\frac{d}{dt} \\begin{pmatrix} Z \\\\ W \\end{pmatrix} = \n",
    "\\begin{pmatrix}\n",
    "r & 0 \\\\\n",
    "0 & -s \n",
    "\\end{pmatrix}\n",
    "\\begin{pmatrix} Z \\\\ W \\end{pmatrix}\n",
    "$$\n",
    "\n",
    "Wówczas wartości własne to $\\lambda_1 = r$ oraz $\\lambda_2 = -s$, a wektory własne $\\vec{\\zeta_1} = \\begin{pmatrix} 1 \\\\ 0 \\end{pmatrix}$ oraz $\\vec{\\zeta_2} = \\begin{pmatrix} 0 \\\\ 1 \\end{pmatrix}$.\n",
    "A rozwiązanie ogólne ma postać\n",
    "$$\n",
    "\\begin{pmatrix} Z \\\\ W \\end{pmatrix}  = C_1 \\begin{pmatrix} 1 \\\\ 0 \\end{pmatrix} e^{rt} + C_2 \\begin{pmatrix} 0 \\\\ 1 \\end{pmatrix} e^{-st}\n",
    "$$\n",
    "Stąd wiemy, że punkt $(0,0)$ jest niestabilny, a zatem dojdziemy do niego tylko po prostej $Z = 0$, ponieważ wszystkie inne trajektorie się od tego punktu oddalają. \n",
    "\n",
    "Następnie rozważmy punkt krytyczny $(\\frac{s}{ba}, \\frac{r}{a})$ i zastosujmy podstawienie $Z=\\frac{s}{ba} + u$ oraz $W=\\frac{r}{a} + v$ by również móc pominąć nieliniowe czynniki i zapisać układ jako\n",
    "$$\n",
    "\\frac{d}{dt}\n",
    "\\begin{pmatrix}\n",
    "u \\\\ v\n",
    "\\end{pmatrix}\n",
    "=\n",
    "\\begin{pmatrix}\n",
    "0 & -\\frac{s}{b} \\\\\n",
    "br & 0\n",
    "\\end{pmatrix}\n",
    "\\begin{pmatrix}\n",
    "u \\\\ v\n",
    "\\end{pmatrix}\n",
    "\\tag{2}\n",
    "$$\n",
    "Skąd wyliczamy wartości własne $\\lambda_{1,2} = \\pm i\\sqrt{sr}$. Wiemy zatem, że wartości własne są urojone, a zatem ten stabilny punkt krytyczny jest środkiem układu liniowego. Żeby znaleźć jego trajektorie, podzielimy drugie równanie przez pierwsze i otrzymamy\n",
    "$$\n",
    "\\frac{dv}{du} = - \\frac{(br)u}{(\\frac{s}{b})v}\n",
    "$$\n",
    "I stąd\n",
    "\\begin{align*}\n",
    "svdv + b^2rudu &= 0 \\\\\n",
    "sv^2 + b^2ru^2 &= k\n",
    "\\end{align*}\n",
    "gdzie k jest nieujemną stałą całkowania. Z tej postaci widzimy, że trajektorie układu $(2)$ to elipsy. Z drugiego równania otrzymujemy $u = \\frac{1}{br}\\frac{dv}{dt}$ i wstawiamy do pierwszego otrzymując\n",
    "\\begin{align*}\n",
    "\\frac{1}{br}&\\frac{d^2v}{dt^2} = -\\frac{s}{b}v \\\\\n",
    "&\\frac{d^2v}{dt^2} + srv = 0\n",
    "\\end{align*}\n",
    "Otrzymujemy równanie jednorodne drugiego rzędu, dla którego możemy zapisać wielomian charakterystyczny\n",
    "\\begin{align*}\n",
    "&a^2 + sr = 0 \\\\\n",
    "&a = \\pm i\\sqrt{sr}\n",
    "\\end{align*}\n",
    "A więc rozwiązanie ogólne ma postać\n",
    "$$\n",
    "v = A\\cos{(\\sqrt{sr}t)} + B\\sin{(\\sqrt{sr}t)}\n",
    "$$\n",
    "gdzie $A$ i $B$ to pewne stałe rzeczywiste, również \n",
    "$$\n",
    "u = \\frac{1}{br}\\frac{dv}{dt} = \\frac{1}{br}(-\\sqrt{sr}A\\sin{(\\sqrt{sr}t)} + \\sqrt{sr}B\\cos{(\\sqrt{sr}t}))\n",
    "$$\n",
    "Ale możemy zapisać $A = \\frac{\\sqrt{rs}}{a}K\\sin{\\phi}$ oraz $B = \\frac{\\sqrt{rs}}{a}K\\cos{\\phi}$. I z tego otrzymujemy\n",
    "\\begin{align*}\n",
    "v &= \\frac{\\sqrt{rs}}{a}K(\\sin{(\\phi)}\\cos{(\\sqrt{sr}t)} + \\cos{(\\phi)}\\sin{(\\sqrt{sr}t})) = \\frac{r}{a}\\frac{\\sqrt{s}}{r}K\\sin{(\\sqrt{sr}t + \\phi)} \\\\\n",
    "u &= \\frac{\\sqrt{sr}}{br}\\frac{\\sqrt{rs}}{a}K(-\\sin{(\\phi)}\\sin{(\\sqrt{sr}t)} + \\cos{(\\phi)}\\cos{(\\sqrt{sr}t})) = \\frac{s}{ba}K\\cos{(\\sqrt{sr}t + \\phi)}\n",
    "\\end{align*}\n",
    "I wracając do $Z$ i $W$ mamy\n",
    "\\begin{align*}\n",
    "Z &= \\frac{s}{ba} + \\frac{s}{ba}K\\cos{(\\sqrt{sr}t + \\phi)} \\\\\n",
    "W &= \\frac{r}{a} + \\frac{r}{a}\\frac{\\sqrt{s}}{r}K\\sin{(\\sqrt{sr}t + \\phi)}\n",
    "\\end{align*}\n",
    "gdzie $K$ i $\\phi$ to pewne stałe wyznaczone przez warunki początkowe.\n",
    "\n",
    "Te rozwiązania dobrze pokazują, że w pobliżu punktu krytycznego $(\\frac{s}{ba}, \\frac{r}{a})$ trajektorie przyjmują formy eliptyczne. Na bazie tego warto wyciągnąć kilka ważnych wniosków\n",
    "* Liczebność populacji wilków i zająców oscylują sinusoidalnie z okresem $2\\pi/\\sqrt{sr}$, niezależnym od warunków początkowych\n",
    "* Funkcje populacji wilków i zająców są przesunięte w fazie o jedną czwartą okresu, co przejawia się początkową dominacją zająców. Ta obserwacja ma oczywiście sens biologiczny. Na początku obie populacje są relatywnie małe, więc obserwujemy gwałtowny wzrost liczby zająców spowodowany małą szansą na ich spotkanie z wilkami. Gdy środowiska zapełnia się zającami, wilki mają dogodne warunki do polowania i ich liczebność zaczyna rosnąć, podczas gdy liczba zająców maleje. Ostatecznie brak pożywienia doprowadza do zmniejszenia populacji wilków i cykl wraca do stanu początkowego.\n",
    "* Amplitudy oscylacji wynoszą odpowiednio $\\frac{s}{ba}K$ dla zająców i $\\frac{r}{a}\\frac{\\sqrt{s}}{r}K$ dla wilków oraz są zależne od warunków początkowych.\n",
    "* Średnie wielkości populacji w pełnym cyklu wynoszą odpowiednio $\\frac{s}{ba}$ dla zająców i $\\frac{r}{a}$ dla wilków i są to punkty równowagi, których osiągnięcie spowodowałoby brak dalszych zmian w wielkościach populacji."
   ]
  }
 ],
 "metadata": {
  "kernelspec": {
   "display_name": "Python 3",
   "language": "python",
   "name": "python3"
  },
  "language_info": {
   "codemirror_mode": {
    "name": "ipython",
    "version": 3
   },
   "file_extension": ".py",
   "mimetype": "text/x-python",
   "name": "python",
   "nbconvert_exporter": "python",
   "pygments_lexer": "ipython3",
   "version": "3.8.0"
  }
 },
 "nbformat": 4,
 "nbformat_minor": 2
}
