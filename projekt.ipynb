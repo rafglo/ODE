{
 "cells": [
  {
   "cell_type": "markdown",
   "metadata": {},
   "source": [
    "# **Model Lotki-Volterry** \n",
    "***"
   ]
  },
  {
   "cell_type": "markdown",
   "metadata": {},
   "source": [
    "Rys historyczny o modelu, wprowadzenie\n",
    "***"
   ]
  },
  {
   "cell_type": "markdown",
   "metadata": {},
   "source": [
    "Opis zajwiska, przedstawienie zająców i wilków, informacje o modelu, założenia\n",
    "***"
   ]
  },
  {
   "cell_type": "markdown",
   "metadata": {},
   "source": [
    "Funkcja rozwiązująca równania\n",
    "***"
   ]
  },
  {
   "cell_type": "markdown",
   "metadata": {},
   "source": [
    "GUI - przedstawienie wyników, syumulacja\n",
    "***"
   ]
  },
  {
   "cell_type": "markdown",
   "metadata": {},
   "source": [
    "Podsumowanie, wnioski\n",
    "***"
   ]
  },
  {
   "cell_type": "markdown",
   "metadata": {},
   "source": [
    "Bibliografia\n",
    "***"
   ]
  },
  {
   "cell_type": "markdown",
   "metadata": {},
   "source": [
    "### **Wprowadzenie**"
   ]
  },
  {
   "cell_type": "markdown",
   "metadata": {},
   "source": [
    "Model Lotki-Volterry, znany również jako model drapieżnicy-ofiary pierwotnie opisywał wzajemne oddziaływanie dwóch populacji współżyjących w ramach jednego ekosystemu. By zrozumieć idee, która dała początek temu zagadnieniu, przenieśmy się do okresu dwudziestolecia międzywojennego. Mieszkający i poławiający w basenie Morza Adriatyckiego rybacy zaobserwowali pozornie paradoksalne zjawisko znaczącego wzrostu populacji ryb drapieżnych. Zdawałoby się bowiem, że w wyniku prowadzonych na tych wodach działań wojennych, liczebność wszystkich gatunków bez wyjątku ulegnie znacznemu zmniejszeniu. Sytuację tę wyjaśnił w 1926 roku włoski matematyk Vito Volterra. Przy pomocy swojego modelu wykazał, że wzrost liczebności drapieżników można wyjaśnić zaprzestaniem połowów podczas wojny i proces ten jest w pełni naturalny. W tym samym czasie, amerykański matematyk Alfred James Lotka, niezależnie od Volterry, wyprowadził równoważne równania do opisu oscylacji stężeń substancji w hipotetycznej reakcji chemicznej. Po dzień dzisiejszy równanie Lotki-Volterry jest wykorzystywane do modelowania układów dynamicznych w ekosystemach."
   ]
  },
  {
   "cell_type": "markdown",
   "metadata": {},
   "source": [
    "### **Opis modelu**"
   ]
  },
  {
   "cell_type": "markdown",
   "metadata": {},
   "source": [
    "Zastanówmy się nad heurystycznym modelem, który posłuży nam do wyprowadzenia równania Lotki-Volterry. Rozważamy ekosystem, w którym występują dwa gatunki. Dla uproszczenia weźmiemy wilki i zające, których liczebność (zagęszczenie) populacji oznaczymy odpowiednio przez $W$ i $Z$. Wilki jako drapieżnicy żywią się zającami - ofiarami. Jeśli w środowisku nie występują wilki, to zające mają dogodne warunki do rozwoju, który wówczas możemy opisać równaniem Malthusa. Jedynym ograniczeniem dla nich jest zatem pojemność środowiska. Z drugiej strony, jeśli zabierzemy wilkom zające, czyli ich jedyne źródło pożywienia, to zaczną wymierać z głodu. Jeśli występują oba gatunki, to wilki polują na zające, a wszystkie osobniki poruszają się losowo. $Z$ ubywa zatem proporcjonalnie do liczby spotkań, która jest tym wyższa, im skuteczniejszy jest drapieżnik. Energię z pożywienia drapieżnicy przeznaczają na rozmnażanie.\n",
    "\n",
    "Wówczas dynamikę rozwoju populacji tych gatunków opisuje następujący układ równań różniczkowych\n",
    "\\begin{align}\n",
    "\\dot{Z} &= rZ - aZW\\\\\n",
    "\\dot{W} &= baWZ - sW\n",
    "\\end{align}\n",
    "\n",
    "gdzie\n",
    "* $r$ jest współczynnikiem rozrodczości zająców\n",
    "* $a$ jest wspołczynnikiem skuteczności polowania, a $aZW$ odzwierciedla liczbę spotkań obu gatunków (skutecznych polowań)\n",
    "* $b$ oznacza część energii, którą po polowaniu wilk przeznczył na rozmnażanie\n",
    "* $s$ jest wspołczynnikiem śmiertelności gatunku wilków\n"
   ]
  }
 ],
 "metadata": {
  "kernelspec": {
   "display_name": "Python 3",
   "language": "python",
   "name": "python3"
  },
  "language_info": {
   "codemirror_mode": {
    "name": "ipython",
    "version": 3
   },
   "file_extension": ".py",
   "mimetype": "text/x-python",
   "name": "python",
   "nbconvert_exporter": "python",
   "pygments_lexer": "ipython3",
   "version": "3.8.0"
  }
 },
 "nbformat": 4,
 "nbformat_minor": 2
}
